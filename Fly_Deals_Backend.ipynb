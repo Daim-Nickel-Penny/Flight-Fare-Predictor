{
  "nbformat": 4,
  "nbformat_minor": 0,
  "metadata": {
    "colab": {
      "name": "Fly-Deals-Backend.ipynb",
      "provenance": [],
      "include_colab_link": true
    },
    "kernelspec": {
      "name": "python3",
      "display_name": "Python 3"
    },
    "language_info": {
      "name": "python"
    }
  },
  "cells": [
    {
      "cell_type": "markdown",
      "metadata": {
        "id": "view-in-github",
        "colab_type": "text"
      },
      "source": [
        "<a href=\"https://colab.research.google.com/github/Daim-Nickel-Penny/Flight-Fare-Predictor/blob/main/Fly_Deals_Backend.ipynb\" target=\"_parent\"><img src=\"https://colab.research.google.com/assets/colab-badge.svg\" alt=\"Open In Colab\"/></a>"
      ]
    },
    {
      "cell_type": "code",
      "metadata": {
        "id": "agis8jsqhGkS",
        "colab": {
          "resources": {
            "http://localhost:8080/nbextensions/google.colab/files.js": {
              "data": "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",
              "ok": true,
              "headers": [
                [
                  "content-type",
                  "application/javascript"
                ]
              ],
              "status": 200,
              "status_text": ""
            }
          },
          "base_uri": "https://localhost:8080/",
          "height": 91
        },
        "outputId": "e52b63f2-dc4f-4934-a0ee-973fe6dd284b"
      },
      "source": [
        "# Bringing the data from kaggle\n",
        "!pip install -q kaggle\n",
        "\n",
        "from google.colab import files\n",
        "files.upload()\n",
        "\n",
        "! mkdir ~/.kaggle\n",
        "\n",
        "! cp kaggle.json ~/.kaggle/\n",
        "\n",
        "! chmod 600 ~/.kaggle/kaggle.json "
      ],
      "execution_count": 34,
      "outputs": [
        {
          "output_type": "display_data",
          "data": {
            "text/html": [
              "\n",
              "     <input type=\"file\" id=\"files-a9e5ff12-a6ab-4de1-9b6d-0a52210a3af8\" name=\"files[]\" multiple disabled\n",
              "        style=\"border:none\" />\n",
              "     <output id=\"result-a9e5ff12-a6ab-4de1-9b6d-0a52210a3af8\">\n",
              "      Upload widget is only available when the cell has been executed in the\n",
              "      current browser session. Please rerun this cell to enable.\n",
              "      </output>\n",
              "      <script src=\"/nbextensions/google.colab/files.js\"></script> "
            ],
            "text/plain": [
              "<IPython.core.display.HTML object>"
            ]
          },
          "metadata": {
            "tags": []
          }
        },
        {
          "output_type": "stream",
          "text": [
            "Saving kaggle.json to kaggle (2).json\n",
            "mkdir: cannot create directory ‘/root/.kaggle’: File exists\n"
          ],
          "name": "stdout"
        }
      ]
    },
    {
      "cell_type": "code",
      "metadata": {
        "colab": {
          "base_uri": "https://localhost:8080/"
        },
        "id": "mSElRn7jj1u1",
        "outputId": "941f5c1f-fede-4050-c8f0-1224781ee31c"
      },
      "source": [
        "!kaggle datasets download -d promptcloud/easemytrip-flight-fare-details-2020"
      ],
      "execution_count": 35,
      "outputs": [
        {
          "output_type": "stream",
          "text": [
            "easemytrip-flight-fare-details-2020.zip: Skipping, found more recently modified local copy (use --force to force download)\n"
          ],
          "name": "stdout"
        }
      ]
    },
    {
      "cell_type": "code",
      "metadata": {
        "id": "YN39AK1TkEd2"
      },
      "source": [
        "!unzip -qq -o /content/easemytrip-flight-fare-details-2020.zip"
      ],
      "execution_count": 36,
      "outputs": []
    },
    {
      "cell_type": "code",
      "metadata": {
        "id": "OZcLH1ePkMfJ"
      },
      "source": [
        "import pandas as pd\n",
        "import numpy as np"
      ],
      "execution_count": 37,
      "outputs": []
    },
    {
      "cell_type": "code",
      "metadata": {
        "id": "D9hDI-2HnZJM"
      },
      "source": [
        "flight_data=pd.read_csv(\"Flight-Data.csv\")"
      ],
      "execution_count": 38,
      "outputs": []
    },
    {
      "cell_type": "code",
      "metadata": {
        "colab": {
          "base_uri": "https://localhost:8080/",
          "height": 517
        },
        "id": "q-3i3xRbneie",
        "outputId": "6814768b-92e2-4ba4-a784-e50f40848b1e"
      },
      "source": [
        "flight_data.head()"
      ],
      "execution_count": 39,
      "outputs": [
        {
          "output_type": "execute_result",
          "data": {
            "text/html": [
              "<div>\n",
              "<style scoped>\n",
              "    .dataframe tbody tr th:only-of-type {\n",
              "        vertical-align: middle;\n",
              "    }\n",
              "\n",
              "    .dataframe tbody tr th {\n",
              "        vertical-align: top;\n",
              "    }\n",
              "\n",
              "    .dataframe thead th {\n",
              "        text-align: right;\n",
              "    }\n",
              "</style>\n",
              "<table border=\"1\" class=\"dataframe\">\n",
              "  <thead>\n",
              "    <tr style=\"text-align: right;\">\n",
              "      <th></th>\n",
              "      <th>Uniq Id</th>\n",
              "      <th>Crawl Timestamp</th>\n",
              "      <th>Source</th>\n",
              "      <th>Layover1</th>\n",
              "      <th>Layover2</th>\n",
              "      <th>Layover3</th>\n",
              "      <th>Destination</th>\n",
              "      <th>Flight Operator</th>\n",
              "      <th>Flight Number</th>\n",
              "      <th>Departure Date</th>\n",
              "      <th>Departure Time</th>\n",
              "      <th>Arrival Date</th>\n",
              "      <th>Arrival Time</th>\n",
              "      <th>Total Time</th>\n",
              "      <th>Number Of Stops</th>\n",
              "      <th>Fare</th>\n",
              "    </tr>\n",
              "  </thead>\n",
              "  <tbody>\n",
              "    <tr>\n",
              "      <th>0</th>\n",
              "      <td>723b6dbcffbdfc2c29321c248cb14a9d</td>\n",
              "      <td>2020-02-01 00:46:15 +0000</td>\n",
              "      <td>Dubai</td>\n",
              "      <td>Muscat</td>\n",
              "      <td>Delhi</td>\n",
              "      <td>NaN</td>\n",
              "      <td>Kolkata</td>\n",
              "      <td>Oman Air|Oman Air|Air India</td>\n",
              "      <td>WY-612|WY-241|AI-764</td>\n",
              "      <td>06Feb2020</td>\n",
              "      <td>22:45</td>\n",
              "      <td>07Feb2020</td>\n",
              "      <td>19:10</td>\n",
              "      <td>18h 55m</td>\n",
              "      <td>2</td>\n",
              "      <td>26224.0</td>\n",
              "    </tr>\n",
              "    <tr>\n",
              "      <th>1</th>\n",
              "      <td>75624e36d7e8ea7e40cc5c33e6c96c01</td>\n",
              "      <td>2020-01-13 13:29:00 +0000</td>\n",
              "      <td>Delhi</td>\n",
              "      <td>NaN</td>\n",
              "      <td>NaN</td>\n",
              "      <td>NaN</td>\n",
              "      <td>Patna</td>\n",
              "      <td>SpiceJet</td>\n",
              "      <td>SG-8480</td>\n",
              "      <td>01Feb2020</td>\n",
              "      <td>15:45</td>\n",
              "      <td>01Feb2020</td>\n",
              "      <td>17:25</td>\n",
              "      <td>01h 40m</td>\n",
              "      <td>0</td>\n",
              "      <td>2889.0</td>\n",
              "    </tr>\n",
              "    <tr>\n",
              "      <th>2</th>\n",
              "      <td>0868155ae620dd8e7cd462e601b5f559</td>\n",
              "      <td>2020-01-01 00:35:50 +0000</td>\n",
              "      <td>Mumbai</td>\n",
              "      <td>Raipur</td>\n",
              "      <td>Kolkata</td>\n",
              "      <td>NaN</td>\n",
              "      <td>Silchar</td>\n",
              "      <td>Air India|Air India|Air India</td>\n",
              "      <td>AI-651|AI-9728|AI-753</td>\n",
              "      <td>23Jan2020</td>\n",
              "      <td>09:40</td>\n",
              "      <td>24Jan2020</td>\n",
              "      <td>07:00</td>\n",
              "      <td>21h 20m</td>\n",
              "      <td>2</td>\n",
              "      <td>13518.0</td>\n",
              "    </tr>\n",
              "    <tr>\n",
              "      <th>3</th>\n",
              "      <td>26135ec458c4204ddf036eae4119dd90</td>\n",
              "      <td>2020-02-01 00:33:23 +0000</td>\n",
              "      <td>Nagpur</td>\n",
              "      <td>Mumbai</td>\n",
              "      <td>Goa</td>\n",
              "      <td>NaN</td>\n",
              "      <td>Pune</td>\n",
              "      <td>Air India|Air India|Air India</td>\n",
              "      <td>AI-630|AI-33|AI-9562</td>\n",
              "      <td>03Feb2020</td>\n",
              "      <td>21:10</td>\n",
              "      <td>04Feb2020</td>\n",
              "      <td>14:45</td>\n",
              "      <td>17h 35m</td>\n",
              "      <td>2</td>\n",
              "      <td>12528.0</td>\n",
              "    </tr>\n",
              "    <tr>\n",
              "      <th>4</th>\n",
              "      <td>c29198e6745d72220af30969f05a7841</td>\n",
              "      <td>2020-01-01 00:18:01 +0000</td>\n",
              "      <td>Mumbai</td>\n",
              "      <td>Hyderabad</td>\n",
              "      <td>NaN</td>\n",
              "      <td>NaN</td>\n",
              "      <td>Varanasi</td>\n",
              "      <td>Indigo|Indigo</td>\n",
              "      <td>6E-5384|6E-915</td>\n",
              "      <td>06Jan2020</td>\n",
              "      <td>00:50</td>\n",
              "      <td>06Jan2020</td>\n",
              "      <td>10:05</td>\n",
              "      <td>09h 15m</td>\n",
              "      <td>1</td>\n",
              "      <td>8240.0</td>\n",
              "    </tr>\n",
              "  </tbody>\n",
              "</table>\n",
              "</div>"
            ],
            "text/plain": [
              "                            Uniq Id  ...     Fare\n",
              "0  723b6dbcffbdfc2c29321c248cb14a9d  ...  26224.0\n",
              "1  75624e36d7e8ea7e40cc5c33e6c96c01  ...   2889.0\n",
              "2  0868155ae620dd8e7cd462e601b5f559  ...  13518.0\n",
              "3  26135ec458c4204ddf036eae4119dd90  ...  12528.0\n",
              "4  c29198e6745d72220af30969f05a7841  ...   8240.0\n",
              "\n",
              "[5 rows x 16 columns]"
            ]
          },
          "metadata": {
            "tags": []
          },
          "execution_count": 39
        }
      ]
    },
    {
      "cell_type": "code",
      "metadata": {
        "id": "31dfjAk5ng1z"
      },
      "source": [
        "import datetime as dt"
      ],
      "execution_count": 40,
      "outputs": []
    },
    {
      "cell_type": "code",
      "metadata": {
        "colab": {
          "base_uri": "https://localhost:8080/"
        },
        "id": "TMNCp4jLns70",
        "outputId": "bbbe1563-d13b-4fad-ffb7-682c2f8d5f9f"
      },
      "source": [
        "flight_data.info()"
      ],
      "execution_count": 41,
      "outputs": [
        {
          "output_type": "stream",
          "text": [
            "<class 'pandas.core.frame.DataFrame'>\n",
            "RangeIndex: 30024 entries, 0 to 30023\n",
            "Data columns (total 16 columns):\n",
            " #   Column           Non-Null Count  Dtype  \n",
            "---  ------           --------------  -----  \n",
            " 0   Uniq Id          30024 non-null  object \n",
            " 1   Crawl Timestamp  30024 non-null  object \n",
            " 2   Source           30024 non-null  object \n",
            " 3   Layover1         28720 non-null  object \n",
            " 4   Layover2         11242 non-null  object \n",
            " 5   Layover3         7 non-null      object \n",
            " 6   Destination      30024 non-null  object \n",
            " 7   Flight Operator  30024 non-null  object \n",
            " 8   Flight Number    30024 non-null  object \n",
            " 9   Departure Date   30024 non-null  object \n",
            " 10  Departure Time   30024 non-null  object \n",
            " 11  Arrival Date     30024 non-null  object \n",
            " 12  Arrival Time     30024 non-null  object \n",
            " 13  Total Time       30024 non-null  object \n",
            " 14  Number Of Stops  30024 non-null  int64  \n",
            " 15  Fare             30024 non-null  float64\n",
            "dtypes: float64(1), int64(1), object(14)\n",
            "memory usage: 3.7+ MB\n"
          ],
          "name": "stdout"
        }
      ]
    },
    {
      "cell_type": "code",
      "metadata": {
        "colab": {
          "base_uri": "https://localhost:8080/"
        },
        "id": "NKNC66d6nvOq",
        "outputId": "18547932-7e21-4169-b8d7-90a818d2f220"
      },
      "source": [
        "flight_data.shape"
      ],
      "execution_count": 42,
      "outputs": [
        {
          "output_type": "execute_result",
          "data": {
            "text/plain": [
              "(30024, 16)"
            ]
          },
          "metadata": {
            "tags": []
          },
          "execution_count": 42
        }
      ]
    },
    {
      "cell_type": "code",
      "metadata": {
        "id": "gqRQAFnPn1L5"
      },
      "source": [
        "#As unique Id is of no use for getting any valid information as it is unqiue for each\n",
        "#case and is of no use "
      ],
      "execution_count": 43,
      "outputs": []
    },
    {
      "cell_type": "code",
      "metadata": {
        "colab": {
          "base_uri": "https://localhost:8080/",
          "height": 269
        },
        "id": "4B4U3Mx4oBDP",
        "outputId": "fff138a3-900b-4b2a-9cc7-ede16cebee94"
      },
      "source": [
        "# flight_data.drop([\"Uniq Id\"], axis=1,inplace=True)\n",
        "flight_data.head(2)"
      ],
      "execution_count": 44,
      "outputs": [
        {
          "output_type": "execute_result",
          "data": {
            "text/html": [
              "<div>\n",
              "<style scoped>\n",
              "    .dataframe tbody tr th:only-of-type {\n",
              "        vertical-align: middle;\n",
              "    }\n",
              "\n",
              "    .dataframe tbody tr th {\n",
              "        vertical-align: top;\n",
              "    }\n",
              "\n",
              "    .dataframe thead th {\n",
              "        text-align: right;\n",
              "    }\n",
              "</style>\n",
              "<table border=\"1\" class=\"dataframe\">\n",
              "  <thead>\n",
              "    <tr style=\"text-align: right;\">\n",
              "      <th></th>\n",
              "      <th>Uniq Id</th>\n",
              "      <th>Crawl Timestamp</th>\n",
              "      <th>Source</th>\n",
              "      <th>Layover1</th>\n",
              "      <th>Layover2</th>\n",
              "      <th>Layover3</th>\n",
              "      <th>Destination</th>\n",
              "      <th>Flight Operator</th>\n",
              "      <th>Flight Number</th>\n",
              "      <th>Departure Date</th>\n",
              "      <th>Departure Time</th>\n",
              "      <th>Arrival Date</th>\n",
              "      <th>Arrival Time</th>\n",
              "      <th>Total Time</th>\n",
              "      <th>Number Of Stops</th>\n",
              "      <th>Fare</th>\n",
              "    </tr>\n",
              "  </thead>\n",
              "  <tbody>\n",
              "    <tr>\n",
              "      <th>0</th>\n",
              "      <td>723b6dbcffbdfc2c29321c248cb14a9d</td>\n",
              "      <td>2020-02-01 00:46:15 +0000</td>\n",
              "      <td>Dubai</td>\n",
              "      <td>Muscat</td>\n",
              "      <td>Delhi</td>\n",
              "      <td>NaN</td>\n",
              "      <td>Kolkata</td>\n",
              "      <td>Oman Air|Oman Air|Air India</td>\n",
              "      <td>WY-612|WY-241|AI-764</td>\n",
              "      <td>06Feb2020</td>\n",
              "      <td>22:45</td>\n",
              "      <td>07Feb2020</td>\n",
              "      <td>19:10</td>\n",
              "      <td>18h 55m</td>\n",
              "      <td>2</td>\n",
              "      <td>26224.0</td>\n",
              "    </tr>\n",
              "    <tr>\n",
              "      <th>1</th>\n",
              "      <td>75624e36d7e8ea7e40cc5c33e6c96c01</td>\n",
              "      <td>2020-01-13 13:29:00 +0000</td>\n",
              "      <td>Delhi</td>\n",
              "      <td>NaN</td>\n",
              "      <td>NaN</td>\n",
              "      <td>NaN</td>\n",
              "      <td>Patna</td>\n",
              "      <td>SpiceJet</td>\n",
              "      <td>SG-8480</td>\n",
              "      <td>01Feb2020</td>\n",
              "      <td>15:45</td>\n",
              "      <td>01Feb2020</td>\n",
              "      <td>17:25</td>\n",
              "      <td>01h 40m</td>\n",
              "      <td>0</td>\n",
              "      <td>2889.0</td>\n",
              "    </tr>\n",
              "  </tbody>\n",
              "</table>\n",
              "</div>"
            ],
            "text/plain": [
              "                            Uniq Id  ...     Fare\n",
              "0  723b6dbcffbdfc2c29321c248cb14a9d  ...  26224.0\n",
              "1  75624e36d7e8ea7e40cc5c33e6c96c01  ...   2889.0\n",
              "\n",
              "[2 rows x 16 columns]"
            ]
          },
          "metadata": {
            "tags": []
          },
          "execution_count": 44
        }
      ]
    },
    {
      "cell_type": "code",
      "metadata": {
        "colab": {
          "base_uri": "https://localhost:8080/"
        },
        "id": "ZUiOPN11oUTZ",
        "outputId": "3614b74d-a02b-40b7-f2c0-91734425ab1e"
      },
      "source": [
        "flight_data[\"Source\"].unique()"
      ],
      "execution_count": 45,
      "outputs": [
        {
          "output_type": "execute_result",
          "data": {
            "text/plain": [
              "array(['Dubai', 'Delhi', 'Mumbai', 'Nagpur', 'Jeddah', 'Kochi', 'Bhopal',\n",
              "       'Don Mueang', 'Riyadh', 'Bengaluru', 'Guwahati', 'Amritsar',\n",
              "       'Kualalumpur', 'Vadodara', 'Brusells', 'Dehra Dun', 'Hong Kong',\n",
              "       'Birmingham', 'Kolkata', 'Kozhikode', 'Chicago', 'Hyderabad',\n",
              "       'Bhubaneswar', 'Johannesberg', 'Paris', 'Chandigarh', 'Ahmedabad',\n",
              "       'Singapore', 'Bangkok', 'Abudhabi', 'Leipzig', 'Al Ain',\n",
              "       'Coimbatore', 'Jammu', 'Chittagong', 'Trivandrum', 'Dammam',\n",
              "       'Dhaka', 'Bahrain', 'Jaipur', 'Chennai', 'London', 'Pune',\n",
              "       'Addis Ababa', 'Madurai', 'Mangalore', 'Frankfurt', 'Colombo',\n",
              "       'Guangzhou', 'Port Blair', 'Newark', 'Jodhpur', 'Vancouver',\n",
              "       'Agartala', 'Kuwait', 'Copenhagen', 'Goa', 'Udaipur', 'Lucknow',\n",
              "       'Amsterdam', 'Cairo', 'Almaty', 'Moscow', 'Istanbul', 'Muenchen',\n",
              "       'Hubli', 'Ashgabat', 'Allahabad', 'Tokyo', 'Indore', 'Tirupati',\n",
              "       'Raipur', 'Patna', 'Aizawl', 'Maruitius', 'Bagdogra', 'Cologne',\n",
              "       'Imphal', 'Basra', 'Taipae', 'Muscat', 'Sharjah', 'Bishkek',\n",
              "       'Rangoon', 'Male', 'Rajkot', 'Aurangabad', 'Baku', 'Antalya',\n",
              "       'Osaka', 'Sydney', 'Kathmandu', 'Phuket', 'New York', 'Helnski',\n",
              "       'Kunming', 'Toronto', 'Washington, Dc', 'Medina', 'Telaviv',\n",
              "       'Jorhat', 'Baghdad', 'Shanghai', 'Karachi', 'Seoul', 'Luxembourg',\n",
              "       'Nairobi', 'San Francisco', 'Manchester', 'Malpensa', 'Vienna',\n",
              "       'Astana', 'Seychelles', 'Kigali', 'Kabul', 'Narita', 'Leh',\n",
              "       'Dibrugarh', 'Gorakhpur', 'Vijayawada', 'Zurich', 'Peking',\n",
              "       'Denpasar', 'Kannur', 'Belgaum', 'Tehran', 'Ranchi', 'Surat',\n",
              "       'Tashkent', 'Ho Chi Minh City', 'Silchar', 'Rome', 'Madrid',\n",
              "       'Salalah', 'Melbourne', 'Lahore', 'Stockholm', 'Cochin', 'Gaya',\n",
              "       'Mashhad', 'Tangerang', 'Mandalay', 'Dharamsala', 'Shenzhen',\n",
              "       'Reunion', 'Kadapa', 'Bhuj', 'Agatti Island', 'Srinagar',\n",
              "       'Dimapur', 'Rajahmundry', 'Navoi', 'Dushanbe', 'Jaisalmer',\n",
              "       'Pondicherry', 'Addu City', 'Kandahar', 'Mazar-I-Sharif', 'Herat',\n",
              "       'Agra', 'Lilabari'], dtype=object)"
            ]
          },
          "metadata": {
            "tags": []
          },
          "execution_count": 45
        }
      ]
    },
    {
      "cell_type": "code",
      "metadata": {
        "colab": {
          "base_uri": "https://localhost:8080/"
        },
        "id": "JWkEU6WJpLt7",
        "outputId": "fcf17b0d-fcac-4529-8c6b-b5fa1109f346"
      },
      "source": [
        "flight_data[\"Flight Operator\"].value_counts()"
      ],
      "execution_count": 46,
      "outputs": [
        {
          "output_type": "execute_result",
          "data": {
            "text/plain": [
              "Air India|Air India|Air India                        5581\n",
              "Air India|Air India                                  3810\n",
              "Indigo|Indigo                                        3434\n",
              "Vistara|Vistara                                      1453\n",
              "Emirates Airlines|Emirates Airlines                  1099\n",
              "                                                     ... \n",
              "MH|MH|Vistara                                           1\n",
              "Saudi Arabian Airlines|Emirates Airlines|Vistara        1\n",
              "Royal Air Maroc|Etihad Airways|SriLankan Airlines       1\n",
              "Flybe|Virgin Atlantic Airways                           1\n",
              "Asiana Airlines|Asiana Airlines|Air India               1\n",
              "Name: Flight Operator, Length: 679, dtype: int64"
            ]
          },
          "metadata": {
            "tags": []
          },
          "execution_count": 46
        }
      ]
    },
    {
      "cell_type": "code",
      "metadata": {
        "id": "noObU9ZypqtL"
      },
      "source": [
        "data=flight_data.groupby(\"Source\")[\"Uniq Id\"].agg({\"count\"})"
      ],
      "execution_count": 90,
      "outputs": []
    },
    {
      "cell_type": "code",
      "metadata": {
        "id": "JaS8Xr67zNLR"
      },
      "source": [
        "import seaborn as sns\n",
        "import matplotlib.pyplot as plt\n"
      ],
      "execution_count": 95,
      "outputs": []
    },
    {
      "cell_type": "code",
      "metadata": {
        "colab": {
          "base_uri": "https://localhost:8080/",
          "height": 515
        },
        "id": "KVTQMO8NzQqZ",
        "outputId": "bc0c7535-bcf1-4374-f72e-4ec113d8a59f"
      },
      "source": [
        "plt.figure(figsize=(16,8))\n",
        "sns.lineplot(data=data, x=\"Source\",y=\"count\" )"
      ],
      "execution_count": 96,
      "outputs": [
        {
          "output_type": "execute_result",
          "data": {
            "text/plain": [
              "<matplotlib.axes._subplots.AxesSubplot at 0x7f0e7ac70510>"
            ]
          },
          "metadata": {
            "tags": []
          },
          "execution_count": 96
        },
        {
          "output_type": "display_data",
          "data": {
            "image/png": "[encoded data removed]",
            "text/plain": [
              "<Figure size 1152x576 with 1 Axes>"
            ]
          },
          "metadata": {
            "tags": [],
            "needs_background": "light"
          }
        }
      ]
    },
    {
      "cell_type": "code",
      "metadata": {
        "id": "pU57llMvqYB0"
      },
      "source": [
        "data= data.sort_values(by=\"count\",  ascending=False)"
      ],
      "execution_count": 52,
      "outputs": []
    },
    {
      "cell_type": "code",
      "metadata": {
        "colab": {
          "base_uri": "https://localhost:8080/",
          "height": 446
        },
        "id": "REx1m4fRqtZY",
        "outputId": "048d513a-be67-4e09-92f5-42659497f4fc"
      },
      "source": [
        "data"
      ],
      "execution_count": 53,
      "outputs": [
        {
          "output_type": "execute_result",
          "data": {
            "text/html": [
              "<div>\n",
              "<style scoped>\n",
              "    .dataframe tbody tr th:only-of-type {\n",
              "        vertical-align: middle;\n",
              "    }\n",
              "\n",
              "    .dataframe tbody tr th {\n",
              "        vertical-align: top;\n",
              "    }\n",
              "\n",
              "    .dataframe thead th {\n",
              "        text-align: right;\n",
              "    }\n",
              "</style>\n",
              "<table border=\"1\" class=\"dataframe\">\n",
              "  <thead>\n",
              "    <tr style=\"text-align: right;\">\n",
              "      <th></th>\n",
              "      <th>count</th>\n",
              "    </tr>\n",
              "    <tr>\n",
              "      <th>Source</th>\n",
              "      <th></th>\n",
              "    </tr>\n",
              "  </thead>\n",
              "  <tbody>\n",
              "    <tr>\n",
              "      <th>Mumbai</th>\n",
              "      <td>1919</td>\n",
              "    </tr>\n",
              "    <tr>\n",
              "      <th>Bengaluru</th>\n",
              "      <td>1729</td>\n",
              "    </tr>\n",
              "    <tr>\n",
              "      <th>Ahmedabad</th>\n",
              "      <td>1165</td>\n",
              "    </tr>\n",
              "    <tr>\n",
              "      <th>Kolkata</th>\n",
              "      <td>1155</td>\n",
              "    </tr>\n",
              "    <tr>\n",
              "      <th>Delhi</th>\n",
              "      <td>1151</td>\n",
              "    </tr>\n",
              "    <tr>\n",
              "      <th>...</th>\n",
              "      <td>...</td>\n",
              "    </tr>\n",
              "    <tr>\n",
              "      <th>Mazar-I-Sharif</th>\n",
              "      <td>1</td>\n",
              "    </tr>\n",
              "    <tr>\n",
              "      <th>Jaisalmer</th>\n",
              "      <td>1</td>\n",
              "    </tr>\n",
              "    <tr>\n",
              "      <th>Agra</th>\n",
              "      <td>1</td>\n",
              "    </tr>\n",
              "    <tr>\n",
              "      <th>Pondicherry</th>\n",
              "      <td>1</td>\n",
              "    </tr>\n",
              "    <tr>\n",
              "      <th>Herat</th>\n",
              "      <td>1</td>\n",
              "    </tr>\n",
              "  </tbody>\n",
              "</table>\n",
              "<p>161 rows × 1 columns</p>\n",
              "</div>"
            ],
            "text/plain": [
              "                count\n",
              "Source               \n",
              "Mumbai           1919\n",
              "Bengaluru        1729\n",
              "Ahmedabad        1165\n",
              "Kolkata          1155\n",
              "Delhi            1151\n",
              "...               ...\n",
              "Mazar-I-Sharif      1\n",
              "Jaisalmer           1\n",
              "Agra                1\n",
              "Pondicherry         1\n",
              "Herat               1\n",
              "\n",
              "[161 rows x 1 columns]"
            ]
          },
          "metadata": {
            "tags": []
          },
          "execution_count": 53
        }
      ]
    },
    {
      "cell_type": "code",
      "metadata": {
        "colab": {
          "base_uri": "https://localhost:8080/",
          "height": 446
        },
        "id": "hPU4Uda4rudB",
        "outputId": "93461615-2b96-4ae1-fea5-b1319e945dba"
      },
      "source": [
        "destn=flight_data.groupby(\"Destination\")[\"Uniq Id\"].agg({\"count\"})\n",
        "destn=destn.sort_values(by=\"count\",  ascending=False)\n",
        "destn"
      ],
      "execution_count": 57,
      "outputs": [
        {
          "output_type": "execute_result",
          "data": {
            "text/html": [
              "<div>\n",
              "<style scoped>\n",
              "    .dataframe tbody tr th:only-of-type {\n",
              "        vertical-align: middle;\n",
              "    }\n",
              "\n",
              "    .dataframe tbody tr th {\n",
              "        vertical-align: top;\n",
              "    }\n",
              "\n",
              "    .dataframe thead th {\n",
              "        text-align: right;\n",
              "    }\n",
              "</style>\n",
              "<table border=\"1\" class=\"dataframe\">\n",
              "  <thead>\n",
              "    <tr style=\"text-align: right;\">\n",
              "      <th></th>\n",
              "      <th>count</th>\n",
              "    </tr>\n",
              "    <tr>\n",
              "      <th>Destination</th>\n",
              "      <th></th>\n",
              "    </tr>\n",
              "  </thead>\n",
              "  <tbody>\n",
              "    <tr>\n",
              "      <th>Delhi</th>\n",
              "      <td>4594</td>\n",
              "    </tr>\n",
              "    <tr>\n",
              "      <th>Mumbai</th>\n",
              "      <td>3214</td>\n",
              "    </tr>\n",
              "    <tr>\n",
              "      <th>Chennai</th>\n",
              "      <td>2479</td>\n",
              "    </tr>\n",
              "    <tr>\n",
              "      <th>Hyderabad</th>\n",
              "      <td>1894</td>\n",
              "    </tr>\n",
              "    <tr>\n",
              "      <th>Bengaluru</th>\n",
              "      <td>1508</td>\n",
              "    </tr>\n",
              "    <tr>\n",
              "      <th>...</th>\n",
              "      <td>...</td>\n",
              "    </tr>\n",
              "    <tr>\n",
              "      <th>Porbandar</th>\n",
              "      <td>2</td>\n",
              "    </tr>\n",
              "    <tr>\n",
              "      <th>Nasik</th>\n",
              "      <td>1</td>\n",
              "    </tr>\n",
              "    <tr>\n",
              "      <th>Pathankot</th>\n",
              "      <td>1</td>\n",
              "    </tr>\n",
              "    <tr>\n",
              "      <th>Pondicherry</th>\n",
              "      <td>1</td>\n",
              "    </tr>\n",
              "    <tr>\n",
              "      <th>Puducherry</th>\n",
              "      <td>1</td>\n",
              "    </tr>\n",
              "  </tbody>\n",
              "</table>\n",
              "<p>85 rows × 1 columns</p>\n",
              "</div>"
            ],
            "text/plain": [
              "             count\n",
              "Destination       \n",
              "Delhi         4594\n",
              "Mumbai        3214\n",
              "Chennai       2479\n",
              "Hyderabad     1894\n",
              "Bengaluru     1508\n",
              "...            ...\n",
              "Porbandar        2\n",
              "Nasik            1\n",
              "Pathankot        1\n",
              "Pondicherry      1\n",
              "Puducherry       1\n",
              "\n",
              "[85 rows x 1 columns]"
            ]
          },
          "metadata": {
            "tags": []
          },
          "execution_count": 57
        }
      ]
    },
    {
      "cell_type": "code",
      "metadata": {
        "id": "JLkyWIJ30Y16"
      },
      "source": [
        "destn=flight_data.groupby(\"Destination\")[\"Uniq Id\"].agg({\"count\"})"
      ],
      "execution_count": 97,
      "outputs": []
    },
    {
      "cell_type": "code",
      "metadata": {
        "colab": {
          "base_uri": "https://localhost:8080/",
          "height": 515
        },
        "id": "LBBOTrIP0PB8",
        "outputId": "d3c094ac-960f-42c2-e0e9-bae3d2229724"
      },
      "source": [
        "plt.figure(figsize=(16,8))\n",
        "sns.lineplot(data=destn, x=\"Destination\",y=\"count\",color='red' )"
      ],
      "execution_count": 99,
      "outputs": [
        {
          "output_type": "execute_result",
          "data": {
            "text/plain": [
              "<matplotlib.axes._subplots.AxesSubplot at 0x7f0e788b2b50>"
            ]
          },
          "metadata": {
            "tags": []
          },
          "execution_count": 99
        },
        {
          "output_type": "display_data",
          "data": {
            "image/png": "[encoded data removed]",
            "text/plain": [
              "<Figure size 1152x576 with 1 Axes>"
            ]
          },
          "metadata": {
            "tags": [],
            "needs_background": "light"
          }
        }
      ]
    },
    {
      "cell_type": "code",
      "metadata": {
        "colab": {
          "base_uri": "https://localhost:8080/"
        },
        "id": "_fObrBnir4AP",
        "outputId": "d4a84abe-bc6e-4adb-fa00-d5437c132912"
      },
      "source": [
        "city_count=flight_data.groupby(\"Source\")[\"Uniq Id\"].count().to_dict()\n",
        "city_count"
      ],
      "execution_count": 59,
      "outputs": [
        {
          "output_type": "execute_result",
          "data": {
            "text/plain": [
              "{'Abudhabi': 501,\n",
              " 'Addis Ababa': 89,\n",
              " 'Addu City': 2,\n",
              " 'Agartala': 83,\n",
              " 'Agatti Island': 6,\n",
              " 'Agra': 1,\n",
              " 'Ahmedabad': 1165,\n",
              " 'Aizawl': 70,\n",
              " 'Al Ain': 60,\n",
              " 'Allahabad': 18,\n",
              " 'Almaty': 45,\n",
              " 'Amritsar': 400,\n",
              " 'Amsterdam': 269,\n",
              " 'Antalya': 86,\n",
              " 'Ashgabat': 11,\n",
              " 'Astana': 27,\n",
              " 'Aurangabad': 14,\n",
              " 'Bagdogra': 78,\n",
              " 'Baghdad': 32,\n",
              " 'Bahrain': 317,\n",
              " 'Baku': 10,\n",
              " 'Bangkok': 651,\n",
              " 'Basra': 24,\n",
              " 'Belgaum': 14,\n",
              " 'Bengaluru': 1729,\n",
              " 'Bhopal': 284,\n",
              " 'Bhubaneswar': 575,\n",
              " 'Bhuj': 7,\n",
              " 'Birmingham': 80,\n",
              " 'Bishkek': 14,\n",
              " 'Brusells': 138,\n",
              " 'Cairo': 56,\n",
              " 'Chandigarh': 209,\n",
              " 'Chennai': 452,\n",
              " 'Chicago': 111,\n",
              " 'Chittagong': 5,\n",
              " 'Cochin': 61,\n",
              " 'Coimbatore': 370,\n",
              " 'Cologne': 79,\n",
              " 'Colombo': 440,\n",
              " 'Copenhagen': 44,\n",
              " 'Dammam': 445,\n",
              " 'Dehra Dun': 265,\n",
              " 'Delhi': 1151,\n",
              " 'Denpasar': 90,\n",
              " 'Dhaka': 169,\n",
              " 'Dharamsala': 6,\n",
              " 'Dibrugarh': 17,\n",
              " 'Dimapur': 4,\n",
              " 'Don Mueang': 335,\n",
              " 'Dubai': 1099,\n",
              " 'Dushanbe': 15,\n",
              " 'Frankfurt': 413,\n",
              " 'Gaya': 10,\n",
              " 'Goa': 549,\n",
              " 'Gorakhpur': 21,\n",
              " 'Guangzhou': 91,\n",
              " 'Guwahati': 422,\n",
              " 'Helnski': 50,\n",
              " 'Herat': 1,\n",
              " 'Ho Chi Minh City': 92,\n",
              " 'Hong Kong': 351,\n",
              " 'Hubli': 61,\n",
              " 'Hyderabad': 956,\n",
              " 'Imphal': 58,\n",
              " 'Indore': 273,\n",
              " 'Istanbul': 109,\n",
              " 'Jaipur': 246,\n",
              " 'Jaisalmer': 1,\n",
              " 'Jammu': 117,\n",
              " 'Jeddah': 437,\n",
              " 'Jodhpur': 49,\n",
              " 'Johannesberg': 59,\n",
              " 'Jorhat': 2,\n",
              " 'Kabul': 13,\n",
              " 'Kadapa': 2,\n",
              " 'Kandahar': 1,\n",
              " 'Kannur': 24,\n",
              " 'Karachi': 51,\n",
              " 'Kathmandu': 175,\n",
              " 'Kigali': 28,\n",
              " 'Kochi': 562,\n",
              " 'Kolkata': 1155,\n",
              " 'Kozhikode': 195,\n",
              " 'Kualalumpur': 551,\n",
              " 'Kunming': 70,\n",
              " 'Kuwait': 556,\n",
              " 'Lahore': 11,\n",
              " 'Leh': 4,\n",
              " 'Leipzig': 109,\n",
              " 'Lilabari': 1,\n",
              " 'London': 513,\n",
              " 'Lucknow': 239,\n",
              " 'Luxembourg': 157,\n",
              " 'Madrid': 54,\n",
              " 'Madurai': 62,\n",
              " 'Male': 179,\n",
              " 'Malpensa': 133,\n",
              " 'Manchester': 98,\n",
              " 'Mandalay': 4,\n",
              " 'Mangalore': 123,\n",
              " 'Maruitius': 130,\n",
              " 'Mashhad': 6,\n",
              " 'Mazar-I-Sharif': 1,\n",
              " 'Medina': 193,\n",
              " 'Melbourne': 77,\n",
              " 'Moscow': 193,\n",
              " 'Muenchen': 119,\n",
              " 'Mumbai': 1919,\n",
              " 'Muscat': 508,\n",
              " 'Nagpur': 40,\n",
              " 'Nairobi': 37,\n",
              " 'Narita': 121,\n",
              " 'Navoi': 6,\n",
              " 'New York': 157,\n",
              " 'Newark': 207,\n",
              " 'Osaka': 127,\n",
              " 'Paris': 273,\n",
              " 'Patna': 145,\n",
              " 'Peking': 60,\n",
              " 'Phuket': 148,\n",
              " 'Pondicherry': 1,\n",
              " 'Port Blair': 89,\n",
              " 'Pune': 91,\n",
              " 'Raipur': 55,\n",
              " 'Rajahmundry': 5,\n",
              " 'Rajkot': 17,\n",
              " 'Ranchi': 78,\n",
              " 'Rangoon': 98,\n",
              " 'Reunion': 14,\n",
              " 'Riyadh': 451,\n",
              " 'Rome': 67,\n",
              " 'Salalah': 88,\n",
              " 'San Francisco': 103,\n",
              " 'Seoul': 151,\n",
              " 'Seychelles': 12,\n",
              " 'Shanghai': 129,\n",
              " 'Sharjah': 253,\n",
              " 'Shenzhen': 27,\n",
              " 'Silchar': 8,\n",
              " 'Singapore': 757,\n",
              " 'Srinagar': 18,\n",
              " 'Stockholm': 71,\n",
              " 'Surat': 24,\n",
              " 'Sydney': 58,\n",
              " 'Taipae': 99,\n",
              " 'Tangerang': 45,\n",
              " 'Tashkent': 41,\n",
              " 'Tehran': 58,\n",
              " 'Telaviv': 89,\n",
              " 'Tirupati': 32,\n",
              " 'Tokyo': 71,\n",
              " 'Toronto': 143,\n",
              " 'Trivandrum': 36,\n",
              " 'Udaipur': 29,\n",
              " 'Vadodara': 246,\n",
              " 'Vancouver': 54,\n",
              " 'Vienna': 56,\n",
              " 'Vijayawada': 19,\n",
              " 'Washington, Dc': 92,\n",
              " 'Zurich': 121}"
            ]
          },
          "metadata": {
            "tags": []
          },
          "execution_count": 59
        }
      ]
    },
    {
      "cell_type": "code",
      "metadata": {
        "id": "AAkSdYH3tas3"
      },
      "source": [
        "flight_data[\"Source Count\"]= flight_data[\"Source\"].map(city_count)"
      ],
      "execution_count": 60,
      "outputs": []
    },
    {
      "cell_type": "code",
      "metadata": {
        "colab": {
          "base_uri": "https://localhost:8080/"
        },
        "id": "Jl6Ry0KdtxSH",
        "outputId": "c580057c-34df-4e71-de8c-b71d6d15610b"
      },
      "source": [
        "per_1= flight_data.shape[0]*0.005\n",
        "per_1"
      ],
      "execution_count": 62,
      "outputs": [
        {
          "output_type": "execute_result",
          "data": {
            "text/plain": [
              "150.12"
            ]
          },
          "metadata": {
            "tags": []
          },
          "execution_count": 62
        }
      ]
    },
    {
      "cell_type": "code",
      "metadata": {
        "colab": {
          "base_uri": "https://localhost:8080/"
        },
        "id": "5mBTbOLuuBhN",
        "outputId": "82364b25-e9ec-493f-e7c9-8b013435b2ee"
      },
      "source": [
        "common_source=flight_data.loc[flight_data[\"Source Count\"]>per_1][\"Source\"].unique().tolist()\n",
        "common_source"
      ],
      "execution_count": 63,
      "outputs": [
        {
          "output_type": "execute_result",
          "data": {
            "text/plain": [
              "['Dubai',\n",
              " 'Delhi',\n",
              " 'Mumbai',\n",
              " 'Jeddah',\n",
              " 'Kochi',\n",
              " 'Bhopal',\n",
              " 'Don Mueang',\n",
              " 'Riyadh',\n",
              " 'Bengaluru',\n",
              " 'Guwahati',\n",
              " 'Amritsar',\n",
              " 'Kualalumpur',\n",
              " 'Vadodara',\n",
              " 'Dehra Dun',\n",
              " 'Hong Kong',\n",
              " 'Kolkata',\n",
              " 'Kozhikode',\n",
              " 'Hyderabad',\n",
              " 'Bhubaneswar',\n",
              " 'Paris',\n",
              " 'Chandigarh',\n",
              " 'Ahmedabad',\n",
              " 'Singapore',\n",
              " 'Bangkok',\n",
              " 'Abudhabi',\n",
              " 'Coimbatore',\n",
              " 'Dammam',\n",
              " 'Dhaka',\n",
              " 'Bahrain',\n",
              " 'Jaipur',\n",
              " 'Chennai',\n",
              " 'London',\n",
              " 'Frankfurt',\n",
              " 'Colombo',\n",
              " 'Newark',\n",
              " 'Kuwait',\n",
              " 'Goa',\n",
              " 'Lucknow',\n",
              " 'Amsterdam',\n",
              " 'Moscow',\n",
              " 'Indore',\n",
              " 'Muscat',\n",
              " 'Sharjah',\n",
              " 'Male',\n",
              " 'Kathmandu',\n",
              " 'New York',\n",
              " 'Medina',\n",
              " 'Seoul',\n",
              " 'Luxembourg']"
            ]
          },
          "metadata": {
            "tags": []
          },
          "execution_count": 63
        }
      ]
    },
    {
      "cell_type": "code",
      "metadata": {
        "colab": {
          "base_uri": "https://localhost:8080/"
        },
        "id": "qV3K5BNsujOK",
        "outputId": "5c3cd6c3-47f8-4785-c45d-56f993515eb1"
      },
      "source": [
        "len(common_source)"
      ],
      "execution_count": 64,
      "outputs": [
        {
          "output_type": "execute_result",
          "data": {
            "text/plain": [
              "49"
            ]
          },
          "metadata": {
            "tags": []
          },
          "execution_count": 64
        }
      ]
    },
    {
      "cell_type": "code",
      "metadata": {
        "colab": {
          "base_uri": "https://localhost:8080/"
        },
        "id": "vNNr4bYTuq_y",
        "outputId": "e2d8c932-490b-4310-d3e0-41299dd21ba2"
      },
      "source": [
        "source_encoder={\n",
        "    val:id+1 for id,val in enumerate(common_source)\n",
        "}\n",
        "source_encoder"
      ],
      "execution_count": 66,
      "outputs": [
        {
          "output_type": "execute_result",
          "data": {
            "text/plain": [
              "{'Abudhabi': 25,\n",
              " 'Ahmedabad': 22,\n",
              " 'Amritsar': 11,\n",
              " 'Amsterdam': 39,\n",
              " 'Bahrain': 29,\n",
              " 'Bangkok': 24,\n",
              " 'Bengaluru': 9,\n",
              " 'Bhopal': 6,\n",
              " 'Bhubaneswar': 19,\n",
              " 'Chandigarh': 21,\n",
              " 'Chennai': 31,\n",
              " 'Coimbatore': 26,\n",
              " 'Colombo': 34,\n",
              " 'Dammam': 27,\n",
              " 'Dehra Dun': 14,\n",
              " 'Delhi': 2,\n",
              " 'Dhaka': 28,\n",
              " 'Don Mueang': 7,\n",
              " 'Dubai': 1,\n",
              " 'Frankfurt': 33,\n",
              " 'Goa': 37,\n",
              " 'Guwahati': 10,\n",
              " 'Hong Kong': 15,\n",
              " 'Hyderabad': 18,\n",
              " 'Indore': 41,\n",
              " 'Jaipur': 30,\n",
              " 'Jeddah': 4,\n",
              " 'Kathmandu': 45,\n",
              " 'Kochi': 5,\n",
              " 'Kolkata': 16,\n",
              " 'Kozhikode': 17,\n",
              " 'Kualalumpur': 12,\n",
              " 'Kuwait': 36,\n",
              " 'London': 32,\n",
              " 'Lucknow': 38,\n",
              " 'Luxembourg': 49,\n",
              " 'Male': 44,\n",
              " 'Medina': 47,\n",
              " 'Moscow': 40,\n",
              " 'Mumbai': 3,\n",
              " 'Muscat': 42,\n",
              " 'New York': 46,\n",
              " 'Newark': 35,\n",
              " 'Paris': 20,\n",
              " 'Riyadh': 8,\n",
              " 'Seoul': 48,\n",
              " 'Sharjah': 43,\n",
              " 'Singapore': 23,\n",
              " 'Vadodara': 13}"
            ]
          },
          "metadata": {
            "tags": []
          },
          "execution_count": 66
        }
      ]
    },
    {
      "cell_type": "code",
      "metadata": {
        "id": "5nNLW_c0u9jP"
      },
      "source": [
        "null_for_source={\n",
        "    \"Source Encoded\":0\n",
        "}"
      ],
      "execution_count": 69,
      "outputs": []
    },
    {
      "cell_type": "code",
      "metadata": {
        "id": "xCdlY9Pavrea"
      },
      "source": [
        "flight_data[\"Source Encoded\"]= flight_data[\"Source\"].map(source_encoder)"
      ],
      "execution_count": 68,
      "outputs": []
    },
    {
      "cell_type": "code",
      "metadata": {
        "id": "q3pxagEav5NI"
      },
      "source": [
        "flight_data.fillna(value=null_for_source, inplace=True)"
      ],
      "execution_count": 70,
      "outputs": []
    },
    {
      "cell_type": "code",
      "metadata": {
        "colab": {
          "base_uri": "https://localhost:8080/",
          "height": 269
        },
        "id": "8NbZlMazwRfB",
        "outputId": "4796de25-adbf-4d25-a337-bb39887c5c62"
      },
      "source": [
        "flight_data.head(2)"
      ],
      "execution_count": 73,
      "outputs": [
        {
          "output_type": "execute_result",
          "data": {
            "text/html": [
              "<div>\n",
              "<style scoped>\n",
              "    .dataframe tbody tr th:only-of-type {\n",
              "        vertical-align: middle;\n",
              "    }\n",
              "\n",
              "    .dataframe tbody tr th {\n",
              "        vertical-align: top;\n",
              "    }\n",
              "\n",
              "    .dataframe thead th {\n",
              "        text-align: right;\n",
              "    }\n",
              "</style>\n",
              "<table border=\"1\" class=\"dataframe\">\n",
              "  <thead>\n",
              "    <tr style=\"text-align: right;\">\n",
              "      <th></th>\n",
              "      <th>Uniq Id</th>\n",
              "      <th>Crawl Timestamp</th>\n",
              "      <th>Source</th>\n",
              "      <th>Layover1</th>\n",
              "      <th>Layover2</th>\n",
              "      <th>Layover3</th>\n",
              "      <th>Destination</th>\n",
              "      <th>Flight Operator</th>\n",
              "      <th>Flight Number</th>\n",
              "      <th>Departure Date</th>\n",
              "      <th>Departure Time</th>\n",
              "      <th>Arrival Date</th>\n",
              "      <th>Arrival Time</th>\n",
              "      <th>Total Time</th>\n",
              "      <th>Number Of Stops</th>\n",
              "      <th>Fare</th>\n",
              "      <th>Source Count</th>\n",
              "      <th>Source Encoded</th>\n",
              "    </tr>\n",
              "  </thead>\n",
              "  <tbody>\n",
              "    <tr>\n",
              "      <th>0</th>\n",
              "      <td>723b6dbcffbdfc2c29321c248cb14a9d</td>\n",
              "      <td>2020-02-01 00:46:15 +0000</td>\n",
              "      <td>Dubai</td>\n",
              "      <td>Muscat</td>\n",
              "      <td>Delhi</td>\n",
              "      <td>NaN</td>\n",
              "      <td>Kolkata</td>\n",
              "      <td>Oman Air|Oman Air|Air India</td>\n",
              "      <td>WY-612|WY-241|AI-764</td>\n",
              "      <td>06Feb2020</td>\n",
              "      <td>22:45</td>\n",
              "      <td>07Feb2020</td>\n",
              "      <td>19:10</td>\n",
              "      <td>18h 55m</td>\n",
              "      <td>2</td>\n",
              "      <td>26224.0</td>\n",
              "      <td>1099</td>\n",
              "      <td>1.0</td>\n",
              "    </tr>\n",
              "    <tr>\n",
              "      <th>1</th>\n",
              "      <td>75624e36d7e8ea7e40cc5c33e6c96c01</td>\n",
              "      <td>2020-01-13 13:29:00 +0000</td>\n",
              "      <td>Delhi</td>\n",
              "      <td>NaN</td>\n",
              "      <td>NaN</td>\n",
              "      <td>NaN</td>\n",
              "      <td>Patna</td>\n",
              "      <td>SpiceJet</td>\n",
              "      <td>SG-8480</td>\n",
              "      <td>01Feb2020</td>\n",
              "      <td>15:45</td>\n",
              "      <td>01Feb2020</td>\n",
              "      <td>17:25</td>\n",
              "      <td>01h 40m</td>\n",
              "      <td>0</td>\n",
              "      <td>2889.0</td>\n",
              "      <td>1151</td>\n",
              "      <td>2.0</td>\n",
              "    </tr>\n",
              "  </tbody>\n",
              "</table>\n",
              "</div>"
            ],
            "text/plain": [
              "                            Uniq Id  ... Source Encoded\n",
              "0  723b6dbcffbdfc2c29321c248cb14a9d  ...            1.0\n",
              "1  75624e36d7e8ea7e40cc5c33e6c96c01  ...            2.0\n",
              "\n",
              "[2 rows x 18 columns]"
            ]
          },
          "metadata": {
            "tags": []
          },
          "execution_count": 73
        }
      ]
    },
    {
      "cell_type": "code",
      "metadata": {
        "id": "dM8KUE1Awp4h"
      },
      "source": [
        "null_for_destn={\n",
        "    \"Destination Encoded\":0\n",
        "}"
      ],
      "execution_count": 74,
      "outputs": []
    },
    {
      "cell_type": "code",
      "metadata": {
        "id": "yhy4nPD1wUaG"
      },
      "source": [
        "flight_data[\"Destination Encoded\"]= flight_data[\"Destination\"].map(source_encoder)\n",
        "flight_data.fillna(value=null_for_destn, inplace=True)"
      ],
      "execution_count": 76,
      "outputs": []
    },
    {
      "cell_type": "code",
      "metadata": {
        "colab": {
          "base_uri": "https://localhost:8080/",
          "height": 351
        },
        "id": "YtRM73Ahw7x6",
        "outputId": "e27173d8-2ba8-4d37-9fa1-760c87c9081b"
      },
      "source": [
        "flight_data.head(3)"
      ],
      "execution_count": 78,
      "outputs": [
        {
          "output_type": "execute_result",
          "data": {
            "text/html": [
              "<div>\n",
              "<style scoped>\n",
              "    .dataframe tbody tr th:only-of-type {\n",
              "        vertical-align: middle;\n",
              "    }\n",
              "\n",
              "    .dataframe tbody tr th {\n",
              "        vertical-align: top;\n",
              "    }\n",
              "\n",
              "    .dataframe thead th {\n",
              "        text-align: right;\n",
              "    }\n",
              "</style>\n",
              "<table border=\"1\" class=\"dataframe\">\n",
              "  <thead>\n",
              "    <tr style=\"text-align: right;\">\n",
              "      <th></th>\n",
              "      <th>Uniq Id</th>\n",
              "      <th>Crawl Timestamp</th>\n",
              "      <th>Source</th>\n",
              "      <th>Layover1</th>\n",
              "      <th>Layover2</th>\n",
              "      <th>Layover3</th>\n",
              "      <th>Destination</th>\n",
              "      <th>Flight Operator</th>\n",
              "      <th>Flight Number</th>\n",
              "      <th>Departure Date</th>\n",
              "      <th>Departure Time</th>\n",
              "      <th>Arrival Date</th>\n",
              "      <th>Arrival Time</th>\n",
              "      <th>Total Time</th>\n",
              "      <th>Number Of Stops</th>\n",
              "      <th>Fare</th>\n",
              "      <th>Source Count</th>\n",
              "      <th>Source Encoded</th>\n",
              "      <th>Destination Encoded</th>\n",
              "    </tr>\n",
              "  </thead>\n",
              "  <tbody>\n",
              "    <tr>\n",
              "      <th>0</th>\n",
              "      <td>723b6dbcffbdfc2c29321c248cb14a9d</td>\n",
              "      <td>2020-02-01 00:46:15 +0000</td>\n",
              "      <td>Dubai</td>\n",
              "      <td>Muscat</td>\n",
              "      <td>Delhi</td>\n",
              "      <td>NaN</td>\n",
              "      <td>Kolkata</td>\n",
              "      <td>Oman Air|Oman Air|Air India</td>\n",
              "      <td>WY-612|WY-241|AI-764</td>\n",
              "      <td>06Feb2020</td>\n",
              "      <td>22:45</td>\n",
              "      <td>07Feb2020</td>\n",
              "      <td>19:10</td>\n",
              "      <td>18h 55m</td>\n",
              "      <td>2</td>\n",
              "      <td>26224.0</td>\n",
              "      <td>1099</td>\n",
              "      <td>1.0</td>\n",
              "      <td>16.0</td>\n",
              "    </tr>\n",
              "    <tr>\n",
              "      <th>1</th>\n",
              "      <td>75624e36d7e8ea7e40cc5c33e6c96c01</td>\n",
              "      <td>2020-01-13 13:29:00 +0000</td>\n",
              "      <td>Delhi</td>\n",
              "      <td>NaN</td>\n",
              "      <td>NaN</td>\n",
              "      <td>NaN</td>\n",
              "      <td>Patna</td>\n",
              "      <td>SpiceJet</td>\n",
              "      <td>SG-8480</td>\n",
              "      <td>01Feb2020</td>\n",
              "      <td>15:45</td>\n",
              "      <td>01Feb2020</td>\n",
              "      <td>17:25</td>\n",
              "      <td>01h 40m</td>\n",
              "      <td>0</td>\n",
              "      <td>2889.0</td>\n",
              "      <td>1151</td>\n",
              "      <td>2.0</td>\n",
              "      <td>0.0</td>\n",
              "    </tr>\n",
              "    <tr>\n",
              "      <th>2</th>\n",
              "      <td>0868155ae620dd8e7cd462e601b5f559</td>\n",
              "      <td>2020-01-01 00:35:50 +0000</td>\n",
              "      <td>Mumbai</td>\n",
              "      <td>Raipur</td>\n",
              "      <td>Kolkata</td>\n",
              "      <td>NaN</td>\n",
              "      <td>Silchar</td>\n",
              "      <td>Air India|Air India|Air India</td>\n",
              "      <td>AI-651|AI-9728|AI-753</td>\n",
              "      <td>23Jan2020</td>\n",
              "      <td>09:40</td>\n",
              "      <td>24Jan2020</td>\n",
              "      <td>07:00</td>\n",
              "      <td>21h 20m</td>\n",
              "      <td>2</td>\n",
              "      <td>13518.0</td>\n",
              "      <td>1919</td>\n",
              "      <td>3.0</td>\n",
              "      <td>0.0</td>\n",
              "    </tr>\n",
              "  </tbody>\n",
              "</table>\n",
              "</div>"
            ],
            "text/plain": [
              "                            Uniq Id  ... Destination Encoded\n",
              "0  723b6dbcffbdfc2c29321c248cb14a9d  ...                16.0\n",
              "1  75624e36d7e8ea7e40cc5c33e6c96c01  ...                 0.0\n",
              "2  0868155ae620dd8e7cd462e601b5f559  ...                 0.0\n",
              "\n",
              "[3 rows x 19 columns]"
            ]
          },
          "metadata": {
            "tags": []
          },
          "execution_count": 78
        }
      ]
    },
    {
      "cell_type": "code",
      "metadata": {
        "colab": {
          "base_uri": "https://localhost:8080/"
        },
        "id": "k5I2QkNpw-Zo",
        "outputId": "3d4b162a-b553-42b8-8761-46b5346947fa"
      },
      "source": [
        "flight_data[\"Source Encoded\"].corr(flight_data.Fare)"
      ],
      "execution_count": 80,
      "outputs": [
        {
          "output_type": "execute_result",
          "data": {
            "text/plain": [
              "0.012550471652281564"
            ]
          },
          "metadata": {
            "tags": []
          },
          "execution_count": 80
        }
      ]
    },
    {
      "cell_type": "code",
      "metadata": {
        "colab": {
          "base_uri": "https://localhost:8080/"
        },
        "id": "Cyca4a3bxjp6",
        "outputId": "9c404284-9e97-4e1a-8ac9-2e1c53fd57f4"
      },
      "source": [
        "flight_data[\"Destination Encoded\"].corr(flight_data.Fare)"
      ],
      "execution_count": 81,
      "outputs": [
        {
          "output_type": "execute_result",
          "data": {
            "text/plain": [
              "-0.04079053891944303"
            ]
          },
          "metadata": {
            "tags": []
          },
          "execution_count": 81
        }
      ]
    },
    {
      "cell_type": "code",
      "metadata": {
        "colab": {
          "base_uri": "https://localhost:8080/",
          "height": 269
        },
        "id": "mpTbUtLBxrLU",
        "outputId": "256797c4-5b63-463d-81eb-e2ec9e205c93"
      },
      "source": [
        "flight_data.head(2)"
      ],
      "execution_count": 82,
      "outputs": [
        {
          "output_type": "execute_result",
          "data": {
            "text/html": [
              "<div>\n",
              "<style scoped>\n",
              "    .dataframe tbody tr th:only-of-type {\n",
              "        vertical-align: middle;\n",
              "    }\n",
              "\n",
              "    .dataframe tbody tr th {\n",
              "        vertical-align: top;\n",
              "    }\n",
              "\n",
              "    .dataframe thead th {\n",
              "        text-align: right;\n",
              "    }\n",
              "</style>\n",
              "<table border=\"1\" class=\"dataframe\">\n",
              "  <thead>\n",
              "    <tr style=\"text-align: right;\">\n",
              "      <th></th>\n",
              "      <th>Uniq Id</th>\n",
              "      <th>Crawl Timestamp</th>\n",
              "      <th>Source</th>\n",
              "      <th>Layover1</th>\n",
              "      <th>Layover2</th>\n",
              "      <th>Layover3</th>\n",
              "      <th>Destination</th>\n",
              "      <th>Flight Operator</th>\n",
              "      <th>Flight Number</th>\n",
              "      <th>Departure Date</th>\n",
              "      <th>Departure Time</th>\n",
              "      <th>Arrival Date</th>\n",
              "      <th>Arrival Time</th>\n",
              "      <th>Total Time</th>\n",
              "      <th>Number Of Stops</th>\n",
              "      <th>Fare</th>\n",
              "      <th>Source Count</th>\n",
              "      <th>Source Encoded</th>\n",
              "      <th>Destination Encoded</th>\n",
              "    </tr>\n",
              "  </thead>\n",
              "  <tbody>\n",
              "    <tr>\n",
              "      <th>0</th>\n",
              "      <td>723b6dbcffbdfc2c29321c248cb14a9d</td>\n",
              "      <td>2020-02-01 00:46:15 +0000</td>\n",
              "      <td>Dubai</td>\n",
              "      <td>Muscat</td>\n",
              "      <td>Delhi</td>\n",
              "      <td>NaN</td>\n",
              "      <td>Kolkata</td>\n",
              "      <td>Oman Air|Oman Air|Air India</td>\n",
              "      <td>WY-612|WY-241|AI-764</td>\n",
              "      <td>06Feb2020</td>\n",
              "      <td>22:45</td>\n",
              "      <td>07Feb2020</td>\n",
              "      <td>19:10</td>\n",
              "      <td>18h 55m</td>\n",
              "      <td>2</td>\n",
              "      <td>26224.0</td>\n",
              "      <td>1099</td>\n",
              "      <td>1.0</td>\n",
              "      <td>16.0</td>\n",
              "    </tr>\n",
              "    <tr>\n",
              "      <th>1</th>\n",
              "      <td>75624e36d7e8ea7e40cc5c33e6c96c01</td>\n",
              "      <td>2020-01-13 13:29:00 +0000</td>\n",
              "      <td>Delhi</td>\n",
              "      <td>NaN</td>\n",
              "      <td>NaN</td>\n",
              "      <td>NaN</td>\n",
              "      <td>Patna</td>\n",
              "      <td>SpiceJet</td>\n",
              "      <td>SG-8480</td>\n",
              "      <td>01Feb2020</td>\n",
              "      <td>15:45</td>\n",
              "      <td>01Feb2020</td>\n",
              "      <td>17:25</td>\n",
              "      <td>01h 40m</td>\n",
              "      <td>0</td>\n",
              "      <td>2889.0</td>\n",
              "      <td>1151</td>\n",
              "      <td>2.0</td>\n",
              "      <td>0.0</td>\n",
              "    </tr>\n",
              "  </tbody>\n",
              "</table>\n",
              "</div>"
            ],
            "text/plain": [
              "                            Uniq Id  ... Destination Encoded\n",
              "0  723b6dbcffbdfc2c29321c248cb14a9d  ...                16.0\n",
              "1  75624e36d7e8ea7e40cc5c33e6c96c01  ...                 0.0\n",
              "\n",
              "[2 rows x 19 columns]"
            ]
          },
          "metadata": {
            "tags": []
          },
          "execution_count": 82
        }
      ]
    },
    {
      "cell_type": "code",
      "metadata": {
        "colab": {
          "base_uri": "https://localhost:8080/"
        },
        "id": "2R4BtjNMxzX0",
        "outputId": "fa164e57-413b-413a-e7a2-3bc457fb2137"
      },
      "source": [
        "flight_data[\"Fare\"].corr(flight_data[\"Number Of Stops\"])"
      ],
      "execution_count": 83,
      "outputs": [
        {
          "output_type": "execute_result",
          "data": {
            "text/plain": [
              "0.1820248916928677"
            ]
          },
          "metadata": {
            "tags": []
          },
          "execution_count": 83
        }
      ]
    },
    {
      "cell_type": "code",
      "metadata": {
        "id": "yWrDQiNQyC5z"
      },
      "source": [
        "flight_data[\"S-D\"]=flight_data[\"Source Encoded\"]-flight_data[\"Destination Encoded\"].abs()"
      ],
      "execution_count": 86,
      "outputs": []
    },
    {
      "cell_type": "code",
      "metadata": {
        "colab": {
          "base_uri": "https://localhost:8080/",
          "height": 351
        },
        "id": "xIJl4J1RymY3",
        "outputId": "3362fca3-b2ec-43f6-ec37-e10075aa7eb0"
      },
      "source": [
        "flight_data.head(3)"
      ],
      "execution_count": 87,
      "outputs": [
        {
          "output_type": "execute_result",
          "data": {
            "text/html": [
              "<div>\n",
              "<style scoped>\n",
              "    .dataframe tbody tr th:only-of-type {\n",
              "        vertical-align: middle;\n",
              "    }\n",
              "\n",
              "    .dataframe tbody tr th {\n",
              "        vertical-align: top;\n",
              "    }\n",
              "\n",
              "    .dataframe thead th {\n",
              "        text-align: right;\n",
              "    }\n",
              "</style>\n",
              "<table border=\"1\" class=\"dataframe\">\n",
              "  <thead>\n",
              "    <tr style=\"text-align: right;\">\n",
              "      <th></th>\n",
              "      <th>Uniq Id</th>\n",
              "      <th>Crawl Timestamp</th>\n",
              "      <th>Source</th>\n",
              "      <th>Layover1</th>\n",
              "      <th>Layover2</th>\n",
              "      <th>Layover3</th>\n",
              "      <th>Destination</th>\n",
              "      <th>Flight Operator</th>\n",
              "      <th>Flight Number</th>\n",
              "      <th>Departure Date</th>\n",
              "      <th>Departure Time</th>\n",
              "      <th>Arrival Date</th>\n",
              "      <th>Arrival Time</th>\n",
              "      <th>Total Time</th>\n",
              "      <th>Number Of Stops</th>\n",
              "      <th>Fare</th>\n",
              "      <th>Source Count</th>\n",
              "      <th>Source Encoded</th>\n",
              "      <th>Destination Encoded</th>\n",
              "      <th>S-D</th>\n",
              "    </tr>\n",
              "  </thead>\n",
              "  <tbody>\n",
              "    <tr>\n",
              "      <th>0</th>\n",
              "      <td>723b6dbcffbdfc2c29321c248cb14a9d</td>\n",
              "      <td>2020-02-01 00:46:15 +0000</td>\n",
              "      <td>Dubai</td>\n",
              "      <td>Muscat</td>\n",
              "      <td>Delhi</td>\n",
              "      <td>NaN</td>\n",
              "      <td>Kolkata</td>\n",
              "      <td>Oman Air|Oman Air|Air India</td>\n",
              "      <td>WY-612|WY-241|AI-764</td>\n",
              "      <td>06Feb2020</td>\n",
              "      <td>22:45</td>\n",
              "      <td>07Feb2020</td>\n",
              "      <td>19:10</td>\n",
              "      <td>18h 55m</td>\n",
              "      <td>2</td>\n",
              "      <td>26224.0</td>\n",
              "      <td>1099</td>\n",
              "      <td>1.0</td>\n",
              "      <td>16.0</td>\n",
              "      <td>-15.0</td>\n",
              "    </tr>\n",
              "    <tr>\n",
              "      <th>1</th>\n",
              "      <td>75624e36d7e8ea7e40cc5c33e6c96c01</td>\n",
              "      <td>2020-01-13 13:29:00 +0000</td>\n",
              "      <td>Delhi</td>\n",
              "      <td>NaN</td>\n",
              "      <td>NaN</td>\n",
              "      <td>NaN</td>\n",
              "      <td>Patna</td>\n",
              "      <td>SpiceJet</td>\n",
              "      <td>SG-8480</td>\n",
              "      <td>01Feb2020</td>\n",
              "      <td>15:45</td>\n",
              "      <td>01Feb2020</td>\n",
              "      <td>17:25</td>\n",
              "      <td>01h 40m</td>\n",
              "      <td>0</td>\n",
              "      <td>2889.0</td>\n",
              "      <td>1151</td>\n",
              "      <td>2.0</td>\n",
              "      <td>0.0</td>\n",
              "      <td>2.0</td>\n",
              "    </tr>\n",
              "    <tr>\n",
              "      <th>2</th>\n",
              "      <td>0868155ae620dd8e7cd462e601b5f559</td>\n",
              "      <td>2020-01-01 00:35:50 +0000</td>\n",
              "      <td>Mumbai</td>\n",
              "      <td>Raipur</td>\n",
              "      <td>Kolkata</td>\n",
              "      <td>NaN</td>\n",
              "      <td>Silchar</td>\n",
              "      <td>Air India|Air India|Air India</td>\n",
              "      <td>AI-651|AI-9728|AI-753</td>\n",
              "      <td>23Jan2020</td>\n",
              "      <td>09:40</td>\n",
              "      <td>24Jan2020</td>\n",
              "      <td>07:00</td>\n",
              "      <td>21h 20m</td>\n",
              "      <td>2</td>\n",
              "      <td>13518.0</td>\n",
              "      <td>1919</td>\n",
              "      <td>3.0</td>\n",
              "      <td>0.0</td>\n",
              "      <td>3.0</td>\n",
              "    </tr>\n",
              "  </tbody>\n",
              "</table>\n",
              "</div>"
            ],
            "text/plain": [
              "                            Uniq Id  ...   S-D\n",
              "0  723b6dbcffbdfc2c29321c248cb14a9d  ... -15.0\n",
              "1  75624e36d7e8ea7e40cc5c33e6c96c01  ...   2.0\n",
              "2  0868155ae620dd8e7cd462e601b5f559  ...   3.0\n",
              "\n",
              "[3 rows x 20 columns]"
            ]
          },
          "metadata": {
            "tags": []
          },
          "execution_count": 87
        }
      ]
    },
    {
      "cell_type": "code",
      "metadata": {
        "colab": {
          "base_uri": "https://localhost:8080/"
        },
        "id": "Hv44HGpxyu0x",
        "outputId": "eeebdf6b-df1f-4e89-e999-d2c7d43ecb21"
      },
      "source": [
        "flight_data[\"Fare\"].corr(flight_data[\"S-D\"])"
      ],
      "execution_count": 88,
      "outputs": [
        {
          "output_type": "execute_result",
          "data": {
            "text/plain": [
              "0.038121543746311624"
            ]
          },
          "metadata": {
            "tags": []
          },
          "execution_count": 88
        }
      ]
    },
    {
      "cell_type": "code",
      "metadata": {
        "colab": {
          "base_uri": "https://localhost:8080/",
          "height": 269
        },
        "id": "gJuWR_Yty4rm",
        "outputId": "f2374c67-3807-43de-ee98-3c91282821fe"
      },
      "source": [
        "flight_data.head(2)"
      ],
      "execution_count": 89,
      "outputs": [
        {
          "output_type": "execute_result",
          "data": {
            "text/html": [
              "<div>\n",
              "<style scoped>\n",
              "    .dataframe tbody tr th:only-of-type {\n",
              "        vertical-align: middle;\n",
              "    }\n",
              "\n",
              "    .dataframe tbody tr th {\n",
              "        vertical-align: top;\n",
              "    }\n",
              "\n",
              "    .dataframe thead th {\n",
              "        text-align: right;\n",
              "    }\n",
              "</style>\n",
              "<table border=\"1\" class=\"dataframe\">\n",
              "  <thead>\n",
              "    <tr style=\"text-align: right;\">\n",
              "      <th></th>\n",
              "      <th>Uniq Id</th>\n",
              "      <th>Crawl Timestamp</th>\n",
              "      <th>Source</th>\n",
              "      <th>Layover1</th>\n",
              "      <th>Layover2</th>\n",
              "      <th>Layover3</th>\n",
              "      <th>Destination</th>\n",
              "      <th>Flight Operator</th>\n",
              "      <th>Flight Number</th>\n",
              "      <th>Departure Date</th>\n",
              "      <th>Departure Time</th>\n",
              "      <th>Arrival Date</th>\n",
              "      <th>Arrival Time</th>\n",
              "      <th>Total Time</th>\n",
              "      <th>Number Of Stops</th>\n",
              "      <th>Fare</th>\n",
              "      <th>Source Count</th>\n",
              "      <th>Source Encoded</th>\n",
              "      <th>Destination Encoded</th>\n",
              "      <th>S-D</th>\n",
              "    </tr>\n",
              "  </thead>\n",
              "  <tbody>\n",
              "    <tr>\n",
              "      <th>0</th>\n",
              "      <td>723b6dbcffbdfc2c29321c248cb14a9d</td>\n",
              "      <td>2020-02-01 00:46:15 +0000</td>\n",
              "      <td>Dubai</td>\n",
              "      <td>Muscat</td>\n",
              "      <td>Delhi</td>\n",
              "      <td>NaN</td>\n",
              "      <td>Kolkata</td>\n",
              "      <td>Oman Air|Oman Air|Air India</td>\n",
              "      <td>WY-612|WY-241|AI-764</td>\n",
              "      <td>06Feb2020</td>\n",
              "      <td>22:45</td>\n",
              "      <td>07Feb2020</td>\n",
              "      <td>19:10</td>\n",
              "      <td>18h 55m</td>\n",
              "      <td>2</td>\n",
              "      <td>26224.0</td>\n",
              "      <td>1099</td>\n",
              "      <td>1.0</td>\n",
              "      <td>16.0</td>\n",
              "      <td>-15.0</td>\n",
              "    </tr>\n",
              "    <tr>\n",
              "      <th>1</th>\n",
              "      <td>75624e36d7e8ea7e40cc5c33e6c96c01</td>\n",
              "      <td>2020-01-13 13:29:00 +0000</td>\n",
              "      <td>Delhi</td>\n",
              "      <td>NaN</td>\n",
              "      <td>NaN</td>\n",
              "      <td>NaN</td>\n",
              "      <td>Patna</td>\n",
              "      <td>SpiceJet</td>\n",
              "      <td>SG-8480</td>\n",
              "      <td>01Feb2020</td>\n",
              "      <td>15:45</td>\n",
              "      <td>01Feb2020</td>\n",
              "      <td>17:25</td>\n",
              "      <td>01h 40m</td>\n",
              "      <td>0</td>\n",
              "      <td>2889.0</td>\n",
              "      <td>1151</td>\n",
              "      <td>2.0</td>\n",
              "      <td>0.0</td>\n",
              "      <td>2.0</td>\n",
              "    </tr>\n",
              "  </tbody>\n",
              "</table>\n",
              "</div>"
            ],
            "text/plain": [
              "                            Uniq Id  ...   S-D\n",
              "0  723b6dbcffbdfc2c29321c248cb14a9d  ... -15.0\n",
              "1  75624e36d7e8ea7e40cc5c33e6c96c01  ...   2.0\n",
              "\n",
              "[2 rows x 20 columns]"
            ]
          },
          "metadata": {
            "tags": []
          },
          "execution_count": 89
        }
      ]
    },
    {
      "cell_type": "code",
      "metadata": {
        "id": "-t4K3br7y_ss"
      },
      "source": [
        ""
      ],
      "execution_count": null,
      "outputs": []
    }
  ]
}